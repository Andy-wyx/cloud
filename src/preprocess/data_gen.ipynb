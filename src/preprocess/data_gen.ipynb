{
 "cells": [
  {
   "cell_type": "code",
   "execution_count": 1,
   "metadata": {},
   "outputs": [],
   "source": [
    "import json\n",
    "data_folder_path = \"../../data/coco/annotations/\"\n",
    "filepath = data_folder_path+\"instances_val2017.json\"\n",
    "with open(filepath, 'r') as file:\n",
    "    data = json.load(file)\n",
    "\n",
    "num_of_images_all = len(data['images'])\n",
    "num_of_categories_all = len(data['categories'])\n",
    "num_of_annotations_all = len(data['annotations'])"
   ]
  },
  {
   "cell_type": "markdown",
   "metadata": {},
   "source": [
    "# Define ID and OOD categories"
   ]
  },
  {
   "cell_type": "code",
   "execution_count": 4,
   "metadata": {},
   "outputs": [
    {
     "name": "stdout",
     "output_type": "stream",
     "text": [
      "[9, 15, 25, 33, 43, 51, 61, 70, 77, 82, 90]\n"
     ]
    }
   ],
   "source": [
    "#last_id of each supercategory as ood category id set\n",
    "supercat_set = list(set([cat['supercategory'] for cat in data['categories']]))\n",
    "\n",
    "ood_category_set = []\n",
    "for supercat in supercat_set:\n",
    "    cats = [cat['id'] for cat in data['categories'] if cat['supercategory']==supercat]\n",
    "    ood_category_set.append(max(cats))\n",
    "ood_category_set = sorted(ood_category_set)\n",
    "ood_category_set = ood_category_set[1:] #keep persons as id\n",
    "print(ood_category_set)"
   ]
  },
  {
   "cell_type": "code",
   "execution_count": 5,
   "metadata": {},
   "outputs": [
    {
     "name": "stdout",
     "output_type": "stream",
     "text": [
      "[1, 2, 3, 4, 5, 6, 7, 8, 10, 11, 13, 14, 16, 17, 18, 19, 20, 21, 22, 23, 24, 27, 28, 31, 32, 34, 35, 36, 37, 38, 39, 40, 41, 42, 44, 46, 47, 48, 49, 50, 52, 53, 54, 55, 56, 57, 58, 59, 60, 62, 63, 64, 65, 67, 72, 73, 74, 75, 76, 78, 79, 80, 81, 84, 85, 86, 87, 88, 89]\n",
      "69\n"
     ]
    }
   ],
   "source": [
    "#other ids as id set\n",
    "id_category_set = list(set([cat['id'] for cat in data['categories']]).difference(set(ood_category_set)))\n",
    "print(id_category_set)\n",
    "print(len(id_category_set))"
   ]
  },
  {
   "cell_type": "markdown",
   "metadata": {},
   "source": [
    "## Generate ID and OOD dataset"
   ]
  },
  {
   "cell_type": "code",
   "execution_count": 6,
   "metadata": {},
   "outputs": [],
   "source": [
    "import copy\n",
    "def split_data_by_category(data, category_set):\n",
    "    data_copy = copy.deepcopy(data)\n",
    "    # Filter categories\n",
    "    filtered_categories = [cat for cat in data_copy['categories'] if cat['id'] in category_set]\n",
    "    valid_ids = {cat['id'] for cat in filtered_categories}\n",
    "\n",
    "    # Filter annotations based on valid category_ids\n",
    "    filtered_annotations = [anno for anno in data_copy['annotations'] if anno['category_id'] in valid_ids]\n",
    "    valid_image_ids = {anno['image_id'] for anno in filtered_annotations}\n",
    "\n",
    "    # Filter images based on remaining valid image_ids\n",
    "    filtered_images = [img for img in data_copy['images'] if img['id'] in valid_image_ids]\n",
    "\n",
    "    # Update the data dictionary with filtered data\n",
    "    data_copy['categories'] = filtered_categories\n",
    "    data_copy['annotations'] = filtered_annotations\n",
    "    data_copy['images'] = filtered_images\n",
    "\n",
    "    return data_copy"
   ]
  },
  {
   "cell_type": "code",
   "execution_count": 7,
   "metadata": {},
   "outputs": [],
   "source": [
    "def filter_mixed(id_data, ood_data):\n",
    "    id_data_copy = copy.deepcopy(id_data)\n",
    "    ood_data_copy = copy.deepcopy(ood_data)\n",
    "    id_image_ids = set([img['id'] for img in id_data_copy['images']])\n",
    "    print(len(id_image_ids))\n",
    "    ood_image_ids = set([img['id'] for img in ood_data_copy['images']])\n",
    "    print(len(ood_image_ids))\n",
    "    mixed_image_ids = list(set(id_image_ids).intersection(set(ood_image_ids)))\n",
    "    print(len(mixed_image_ids))\n",
    "    filtered_id_image_ids = list(id_image_ids.difference(set(mixed_image_ids)))\n",
    "    print(len(filtered_id_image_ids))\n",
    "    filtered_ood_image_ids = list(ood_image_ids.difference(set(mixed_image_ids)))\n",
    "    print(len(filtered_ood_image_ids))\n",
    "    filtered_id_images = [img for img in id_data_copy['images'] if img['id'] not in mixed_image_ids]\n",
    "    print(len(filtered_id_images))\n",
    "    filtered_ood_images = [img for img in ood_data_copy['images'] if img['id'] not in mixed_image_ids]\n",
    "    print(len(filtered_ood_images))\n",
    "    filtered_id_annos = [anno for anno in id_data_copy['annotations'] if anno['image_id'] in filtered_id_image_ids]\n",
    "    filtered_ood_annos = [anno for anno in ood_data_copy['annotations'] if anno['image_id'] in filtered_ood_image_ids]\n",
    "    print(len(filtered_id_annos))\n",
    "    print(len(filtered_ood_annos))\n",
    "\n",
    "    id_category_ids = []\n",
    "    ood_category_ids = []\n",
    "    for i in filtered_id_annos:\n",
    "        id_category_ids.append(i['category_id'])\n",
    "    for i in filtered_ood_annos:\n",
    "        ood_category_ids.append(i['category_id'])\n",
    "    filtered_id_categories = [cat for cat in id_data_copy['categories'] if cat['id'] in id_category_ids]\n",
    "    filtered_ood_categories = [cat for cat in ood_data_copy['categories'] if cat['id'] in ood_category_ids]\n",
    "    print(len(filtered_id_categories))\n",
    "    print(len(filtered_ood_categories))\n",
    "\n",
    "    id_data_copy['categories'] = filtered_id_categories\n",
    "    id_data_copy['annotations'] = filtered_id_annos\n",
    "    id_data_copy['images'] = filtered_id_images\n",
    "\n",
    "    ood_data_copy['categories'] = filtered_ood_categories\n",
    "    ood_data_copy['annotations'] = filtered_ood_annos\n",
    "    ood_data_copy['images'] = filtered_ood_images\n",
    "\n",
    "    return id_data_copy,ood_data_copy\n",
    "\n"
   ]
  },
  {
   "cell_type": "code",
   "execution_count": 8,
   "metadata": {},
   "outputs": [],
   "source": [
    "def gen_id_ood_dataset(id_category_set,ood_category_set,filepath):\n",
    "    def save_json(data, new_filename):\n",
    "        with open(new_filename, 'w') as file:\n",
    "            json.dump(data, file)\n",
    "            \n",
    "    with open(filepath, 'r') as file:\n",
    "        data = json.load(file)\n",
    "\n",
    "    id_data = split_data_by_category(data, id_category_set)\n",
    "    ood_data = split_data_by_category(data, ood_category_set)\n",
    "    filtered_id_data, filtered_ood_data = filter_mixed(id_data=id_data, ood_data=ood_data)\n",
    "    save_json(filtered_id_data, data_folder_path+'id_pretrain.json')\n",
    "    save_json(filtered_ood_data, data_folder_path+'ood_test.json')\n",
    "    print('saved')"
   ]
  },
  {
   "cell_type": "code",
   "execution_count": 9,
   "metadata": {},
   "outputs": [
    {
     "name": "stdout",
     "output_type": "stream",
     "text": [
      "4763\n",
      "1515\n",
      "1326\n",
      "3437\n",
      "189\n",
      "3437\n",
      "189\n",
      "23033\n",
      "459\n",
      "69\n",
      "10\n",
      "saved\n"
     ]
    }
   ],
   "source": [
    "gen_id_ood_dataset(id_category_set,ood_category_set,filepath=filepath)"
   ]
  },
  {
   "cell_type": "markdown",
   "metadata": {},
   "source": [
    "## Generate ID testing dataset:Use part of the id data as id_test data for model inference"
   ]
  },
  {
   "cell_type": "code",
   "execution_count": 10,
   "metadata": {},
   "outputs": [
    {
     "name": "stdout",
     "output_type": "stream",
     "text": [
      "saved\n"
     ]
    }
   ],
   "source": [
    "import random\n",
    "def gen_id_testing_dataset(id_data_file_path,percentage=0.3):\n",
    "    with open(id_data_file_path, 'r') as file:\n",
    "        data = json.load(file)\n",
    "    \n",
    "    image_ids = [img['id'] for img in data['images']]\n",
    "    random.shuffle(image_ids)\n",
    "    # Calculate the split index\n",
    "    split_index = int(len(image_ids) * percentage)\n",
    "    \n",
    "    # Split image IDs into training and testing sets # TODO\n",
    "    test_image_ids = set(image_ids[:split_index])\n",
    "\n",
    "    test_images = [img for img in data['images'] if img['id'] in test_image_ids]\n",
    "    test_annos = [anno for anno in data['annotations'] if anno['image_id'] in test_image_ids]\n",
    "\n",
    "    data['images']=test_images\n",
    "    data['annotations'] = test_annos\n",
    "\n",
    "    def save_json(data, new_filename):\n",
    "        with open(new_filename, 'w') as file:\n",
    "            json.dump(data, file)\n",
    "    save_json(data, data_folder_path+'id_test.json')\n",
    "    print('saved')\n",
    "\n",
    "gen_id_testing_dataset(data_folder_path+\"id_pretrain.json\",percentage=0.2)\n",
    "    \n"
   ]
  },
  {
   "cell_type": "code",
   "execution_count": 11,
   "metadata": {},
   "outputs": [],
   "source": [
    "def get_json_info(file_path):\n",
    "    with open(file_path, 'r') as file:\n",
    "        data = json.load(file)\n",
    "    print(file_path.split('/')[-1]+\":\")\n",
    "    print(\"\\ttop-level properties:\", list(data.keys()))\n",
    "    print(\"\\tnumber of images:\", f\"{len(data['images'])}/{num_of_images_all}\")\n",
    "    print(\"\\tnumber of annotations:\", f\"{len(data['annotations'])}/{num_of_annotations_all}\")\n",
    "    category_set = [cat['id'] for cat in data['categories']]\n",
    "    print(\"\\tnumber of categories:\", f\"{len(data['categories'])}/{num_of_categories_all}\",'including category ids:', list(category_set))"
   ]
  },
  {
   "cell_type": "code",
   "execution_count": 12,
   "metadata": {},
   "outputs": [
    {
     "name": "stdout",
     "output_type": "stream",
     "text": [
      "id_pretrain.json:\n",
      "\ttop-level properties: ['info', 'licenses', 'images', 'annotations', 'categories']\n",
      "\tnumber of images: 3437/5000\n",
      "\tnumber of annotations: 23033/36781\n",
      "\tnumber of categories: 69/80 including category ids: [1, 2, 3, 4, 5, 6, 7, 8, 10, 11, 13, 14, 16, 17, 18, 19, 20, 21, 22, 23, 24, 27, 28, 31, 32, 34, 35, 36, 37, 38, 39, 40, 41, 42, 44, 46, 47, 48, 49, 50, 52, 53, 54, 55, 56, 57, 58, 59, 60, 62, 63, 64, 65, 67, 72, 73, 74, 75, 76, 78, 79, 80, 81, 84, 85, 86, 87, 88, 89]\n",
      "id_test.json:\n",
      "\ttop-level properties: ['info', 'licenses', 'images', 'annotations', 'categories']\n",
      "\tnumber of images: 687/5000\n",
      "\tnumber of annotations: 4499/36781\n",
      "\tnumber of categories: 69/80 including category ids: [1, 2, 3, 4, 5, 6, 7, 8, 10, 11, 13, 14, 16, 17, 18, 19, 20, 21, 22, 23, 24, 27, 28, 31, 32, 34, 35, 36, 37, 38, 39, 40, 41, 42, 44, 46, 47, 48, 49, 50, 52, 53, 54, 55, 56, 57, 58, 59, 60, 62, 63, 64, 65, 67, 72, 73, 74, 75, 76, 78, 79, 80, 81, 84, 85, 86, 87, 88, 89]\n",
      "ood_test.json:\n",
      "\ttop-level properties: ['info', 'licenses', 'images', 'annotations', 'categories']\n",
      "\tnumber of images: 189/5000\n",
      "\tnumber of annotations: 459/36781\n",
      "\tnumber of categories: 10/80 including category ids: [9, 15, 25, 33, 51, 61, 70, 77, 82, 90]\n"
     ]
    }
   ],
   "source": [
    "get_json_info(data_folder_path+'id_pretrain.json')\n",
    "get_json_info(data_folder_path+'id_test.json')\n",
    "get_json_info(data_folder_path+'ood_test.json')\n"
   ]
  },
  {
   "cell_type": "markdown",
   "metadata": {},
   "source": []
  }
 ],
 "metadata": {
  "kernelspec": {
   "display_name": "regionclip",
   "language": "python",
   "name": "python3"
  },
  "language_info": {
   "codemirror_mode": {
    "name": "ipython",
    "version": 3
   },
   "file_extension": ".py",
   "mimetype": "text/x-python",
   "name": "python",
   "nbconvert_exporter": "python",
   "pygments_lexer": "ipython3",
   "version": "3.9.12"
  }
 },
 "nbformat": 4,
 "nbformat_minor": 2
}
